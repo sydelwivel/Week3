{
 "cells": [
  {
   "cell_type": "markdown",
   "id": "ac408655",
   "metadata": {},
   "source": [
    "## GLOBAL POWER PLANT"
   ]
  },
  {
   "cell_type": "code",
   "execution_count": 1,
   "id": "02f6218f",
   "metadata": {},
   "outputs": [],
   "source": [
    "import pandas as pd"
   ]
  },
  {
   "cell_type": "code",
   "execution_count": 2,
   "id": "a0f2434c",
   "metadata": {},
   "outputs": [
    {
     "name": "stderr",
     "output_type": "stream",
     "text": [
      "<>:1: SyntaxWarning: invalid escape sequence '\\g'\n",
      "<>:1: SyntaxWarning: invalid escape sequence '\\g'\n",
      "C:\\Users\\acer\\AppData\\Local\\Temp\\ipykernel_25412\\2429805011.py:1: SyntaxWarning: invalid escape sequence '\\g'\n",
      "  df = pd.read_csv(\"DataSet\\global_power_plant_database.csv\")\n"
     ]
    }
   ],
   "source": [
    "df = pd.read_csv(\"DataSet\\global_power_plant_database.csv\")\n"
   ]
  },
  {
   "cell_type": "code",
   "execution_count": 3,
   "id": "0549cfa8",
   "metadata": {},
   "outputs": [
    {
     "data": {
      "text/plain": [
       "country                         0\n",
       "country_long                    0\n",
       "name                           20\n",
       "gppd_idnr                       0\n",
       "capacity_mw                     0\n",
       "latitude                        0\n",
       "longitude                       0\n",
       "fuel1                           3\n",
       "fuel2                       26959\n",
       "fuel3                       28368\n",
       "fuel4                       28556\n",
       "commissioning_year          13712\n",
       "owner                       10571\n",
       "source                          0\n",
       "url                             0\n",
       "geolocation_source            421\n",
       "year_of_capacity_data       12519\n",
       "generation_gwh_2013         28225\n",
       "generation_gwh_2014         28209\n",
       "generation_gwh_2015         27706\n",
       "generation_gwh_2016         20338\n",
       "estimated_generation_gwh     1128\n",
       "dtype: int64"
      ]
     },
     "execution_count": 3,
     "metadata": {},
     "output_type": "execute_result"
    }
   ],
   "source": [
    "df.isnull().sum()"
   ]
  },
  {
   "cell_type": "code",
   "execution_count": 4,
   "id": "ba1d7cc9",
   "metadata": {},
   "outputs": [],
   "source": [
    "cols_to_drop = [\n",
    "    'fuel2', 'fuel3', 'fuel4',\n",
    "    'generation_gwh_2013', 'generation_gwh_2014',\n",
    "    'generation_gwh_2015', 'generation_gwh_2016', \n",
    "]\n",
    "\n",
    "df_cleaned = df.drop(columns=cols_to_drop)\n"
   ]
  },
  {
   "cell_type": "code",
   "execution_count": 5,
   "id": "c5c69988",
   "metadata": {},
   "outputs": [
    {
     "data": {
      "text/plain": [
       "country                         0\n",
       "country_long                    0\n",
       "name                           20\n",
       "gppd_idnr                       0\n",
       "capacity_mw                     0\n",
       "latitude                        0\n",
       "longitude                       0\n",
       "fuel1                           3\n",
       "fuel2                       26959\n",
       "fuel3                       28368\n",
       "fuel4                       28556\n",
       "commissioning_year          13712\n",
       "owner                       10571\n",
       "source                          0\n",
       "url                             0\n",
       "geolocation_source            421\n",
       "year_of_capacity_data       12519\n",
       "generation_gwh_2013         28225\n",
       "generation_gwh_2014         28209\n",
       "generation_gwh_2015         27706\n",
       "generation_gwh_2016         20338\n",
       "estimated_generation_gwh     1128\n",
       "dtype: int64"
      ]
     },
     "execution_count": 5,
     "metadata": {},
     "output_type": "execute_result"
    }
   ],
   "source": [
    "df.isnull().sum()"
   ]
  },
  {
   "cell_type": "code",
   "execution_count": 6,
   "id": "b5699ef7",
   "metadata": {},
   "outputs": [],
   "source": [
    "cols_to_drop = [\n",
    "    'fuel2', 'fuel3', 'fuel4',\n",
    "    'generation_gwh_2013', 'generation_gwh_2014',\n",
    "    'generation_gwh_2015', 'generation_gwh_2016', \n",
    "]\n",
    "\n",
    "df_cleaned = df.drop(columns=cols_to_drop, inplace= True)\n"
   ]
  },
  {
   "cell_type": "code",
   "execution_count": 7,
   "id": "7d315a03",
   "metadata": {},
   "outputs": [
    {
     "data": {
      "text/plain": [
       "country                         0\n",
       "country_long                    0\n",
       "name                           20\n",
       "gppd_idnr                       0\n",
       "capacity_mw                     0\n",
       "latitude                        0\n",
       "longitude                       0\n",
       "fuel1                           3\n",
       "commissioning_year          13712\n",
       "owner                       10571\n",
       "source                          0\n",
       "url                             0\n",
       "geolocation_source            421\n",
       "year_of_capacity_data       12519\n",
       "estimated_generation_gwh     1128\n",
       "dtype: int64"
      ]
     },
     "execution_count": 7,
     "metadata": {},
     "output_type": "execute_result"
    }
   ],
   "source": [
    "df.isnull().sum()"
   ]
  },
  {
   "cell_type": "code",
   "execution_count": 8,
   "id": "7afaf6b1",
   "metadata": {},
   "outputs": [
    {
     "name": "stderr",
     "output_type": "stream",
     "text": [
      "C:\\Users\\acer\\AppData\\Local\\Temp\\ipykernel_25412\\1775892129.py:1: FutureWarning: A value is trying to be set on a copy of a DataFrame or Series through chained assignment using an inplace method.\n",
      "The behavior will change in pandas 3.0. This inplace method will never work because the intermediate object on which we are setting values always behaves as a copy.\n",
      "\n",
      "For example, when doing 'df[col].method(value, inplace=True)', try using 'df.method({col: value}, inplace=True)' or df[col] = df[col].method(value) instead, to perform the operation inplace on the original object.\n",
      "\n",
      "\n",
      "  df['name'].fillna(df['name'].mode()[0], inplace=True)\n"
     ]
    }
   ],
   "source": [
    "df['name'].fillna(df['name'].mode()[0], inplace=True)"
   ]
  },
  {
   "cell_type": "code",
   "execution_count": 9,
   "id": "8727a54f",
   "metadata": {},
   "outputs": [
    {
     "name": "stderr",
     "output_type": "stream",
     "text": [
      "C:\\Users\\acer\\AppData\\Local\\Temp\\ipykernel_25412\\1934305441.py:1: FutureWarning: A value is trying to be set on a copy of a DataFrame or Series through chained assignment using an inplace method.\n",
      "The behavior will change in pandas 3.0. This inplace method will never work because the intermediate object on which we are setting values always behaves as a copy.\n",
      "\n",
      "For example, when doing 'df[col].method(value, inplace=True)', try using 'df.method({col: value}, inplace=True)' or df[col] = df[col].method(value) instead, to perform the operation inplace on the original object.\n",
      "\n",
      "\n",
      "  df['owner'].fillna(df['owner'].mode()[0], inplace=True)\n"
     ]
    }
   ],
   "source": [
    "df['owner'].fillna(df['owner'].mode()[0], inplace=True)"
   ]
  },
  {
   "cell_type": "code",
   "execution_count": 10,
   "id": "a4ab4a97",
   "metadata": {},
   "outputs": [
    {
     "name": "stderr",
     "output_type": "stream",
     "text": [
      "C:\\Users\\acer\\AppData\\Local\\Temp\\ipykernel_25412\\3028774933.py:1: FutureWarning: A value is trying to be set on a copy of a DataFrame or Series through chained assignment using an inplace method.\n",
      "The behavior will change in pandas 3.0. This inplace method will never work because the intermediate object on which we are setting values always behaves as a copy.\n",
      "\n",
      "For example, when doing 'df[col].method(value, inplace=True)', try using 'df.method({col: value}, inplace=True)' or df[col] = df[col].method(value) instead, to perform the operation inplace on the original object.\n",
      "\n",
      "\n",
      "  df['geolocation_source'].fillna(df['geolocation_source'].mode()[0], inplace=True)\n"
     ]
    }
   ],
   "source": [
    "df['geolocation_source'].fillna(df['geolocation_source'].mode()[0], inplace=True)"
   ]
  },
  {
   "cell_type": "code",
   "execution_count": 11,
   "id": "ec7469a1",
   "metadata": {},
   "outputs": [
    {
     "name": "stderr",
     "output_type": "stream",
     "text": [
      "C:\\Users\\acer\\AppData\\Local\\Temp\\ipykernel_25412\\3244996070.py:1: FutureWarning: A value is trying to be set on a copy of a DataFrame or Series through chained assignment using an inplace method.\n",
      "The behavior will change in pandas 3.0. This inplace method will never work because the intermediate object on which we are setting values always behaves as a copy.\n",
      "\n",
      "For example, when doing 'df[col].method(value, inplace=True)', try using 'df.method({col: value}, inplace=True)' or df[col] = df[col].method(value) instead, to perform the operation inplace on the original object.\n",
      "\n",
      "\n",
      "  df['commissioning_year'].fillna(df['commissioning_year'].mean(), inplace= True)\n"
     ]
    }
   ],
   "source": [
    "df['commissioning_year'].fillna(df['commissioning_year'].mean(), inplace= True)"
   ]
  },
  {
   "cell_type": "code",
   "execution_count": 12,
   "id": "7dc9efee",
   "metadata": {},
   "outputs": [
    {
     "name": "stderr",
     "output_type": "stream",
     "text": [
      "C:\\Users\\acer\\AppData\\Local\\Temp\\ipykernel_25412\\3161198177.py:1: FutureWarning: A value is trying to be set on a copy of a DataFrame or Series through chained assignment using an inplace method.\n",
      "The behavior will change in pandas 3.0. This inplace method will never work because the intermediate object on which we are setting values always behaves as a copy.\n",
      "\n",
      "For example, when doing 'df[col].method(value, inplace=True)', try using 'df.method({col: value}, inplace=True)' or df[col] = df[col].method(value) instead, to perform the operation inplace on the original object.\n",
      "\n",
      "\n",
      "  df['fuel1'].fillna(df['fuel1'].mode()[0], inplace= True)\n"
     ]
    }
   ],
   "source": [
    "df['fuel1'].fillna(df['fuel1'].mode()[0], inplace= True)"
   ]
  },
  {
   "cell_type": "code",
   "execution_count": 13,
   "id": "9a527da0",
   "metadata": {},
   "outputs": [
    {
     "name": "stderr",
     "output_type": "stream",
     "text": [
      "C:\\Users\\acer\\AppData\\Local\\Temp\\ipykernel_25412\\1401317948.py:1: FutureWarning: A value is trying to be set on a copy of a DataFrame or Series through chained assignment using an inplace method.\n",
      "The behavior will change in pandas 3.0. This inplace method will never work because the intermediate object on which we are setting values always behaves as a copy.\n",
      "\n",
      "For example, when doing 'df[col].method(value, inplace=True)', try using 'df.method({col: value}, inplace=True)' or df[col] = df[col].method(value) instead, to perform the operation inplace on the original object.\n",
      "\n",
      "\n",
      "  df['year_of_capacity_data'].fillna(df['year_of_capacity_data'].mean(), inplace= True)\n"
     ]
    }
   ],
   "source": [
    "df['year_of_capacity_data'].fillna(df['year_of_capacity_data'].mean(), inplace= True)"
   ]
  },
  {
   "cell_type": "code",
   "execution_count": 14,
   "id": "5511f519",
   "metadata": {},
   "outputs": [
    {
     "name": "stderr",
     "output_type": "stream",
     "text": [
      "C:\\Users\\acer\\AppData\\Local\\Temp\\ipykernel_25412\\3247230354.py:1: FutureWarning: A value is trying to be set on a copy of a DataFrame or Series through chained assignment using an inplace method.\n",
      "The behavior will change in pandas 3.0. This inplace method will never work because the intermediate object on which we are setting values always behaves as a copy.\n",
      "\n",
      "For example, when doing 'df[col].method(value, inplace=True)', try using 'df.method({col: value}, inplace=True)' or df[col] = df[col].method(value) instead, to perform the operation inplace on the original object.\n",
      "\n",
      "\n",
      "  df['estimated_generation_gwh'].fillna(df['estimated_generation_gwh'].mean(), inplace= True)\n"
     ]
    }
   ],
   "source": [
    "df['estimated_generation_gwh'].fillna(df['estimated_generation_gwh'].mean(), inplace= True)"
   ]
  },
  {
   "cell_type": "code",
   "execution_count": 15,
   "id": "30826694",
   "metadata": {},
   "outputs": [
    {
     "data": {
      "text/plain": [
       "country                     0\n",
       "country_long                0\n",
       "name                        0\n",
       "gppd_idnr                   0\n",
       "capacity_mw                 0\n",
       "latitude                    0\n",
       "longitude                   0\n",
       "fuel1                       0\n",
       "commissioning_year          0\n",
       "owner                       0\n",
       "source                      0\n",
       "url                         0\n",
       "geolocation_source          0\n",
       "year_of_capacity_data       0\n",
       "estimated_generation_gwh    0\n",
       "dtype: int64"
      ]
     },
     "execution_count": 15,
     "metadata": {},
     "output_type": "execute_result"
    }
   ],
   "source": [
    "df.isnull().sum()"
   ]
  },
  {
   "cell_type": "code",
   "execution_count": 16,
   "id": "15e2bfe6",
   "metadata": {},
   "outputs": [],
   "source": [
    "df.to_csv(\"cleandata.csv\",index = False)"
   ]
  },
  {
   "cell_type": "code",
   "execution_count": null,
   "id": "ee3dec96",
   "metadata": {},
   "outputs": [],
   "source": []
  }
 ],
 "metadata": {
  "kernelspec": {
   "display_name": "base",
   "language": "python",
   "name": "python3"
  },
  "language_info": {
   "codemirror_mode": {
    "name": "ipython",
    "version": 3
   },
   "file_extension": ".py",
   "mimetype": "text/x-python",
   "name": "python",
   "nbconvert_exporter": "python",
   "pygments_lexer": "ipython3",
   "version": "3.12.3"
  }
 },
 "nbformat": 4,
 "nbformat_minor": 5
}
