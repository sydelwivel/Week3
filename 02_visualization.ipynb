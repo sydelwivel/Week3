{
 "cells": [
  {
   "cell_type": "markdown",
   "id": "d8a1e658",
   "metadata": {},
   "source": [
    "## DATA VISUALIZATION"
   ]
  },
  {
   "cell_type": "code",
   "execution_count": 1,
   "id": "00c22514",
   "metadata": {},
   "outputs": [],
   "source": [
    "import pandas as pd"
   ]
  },
  {
   "cell_type": "code",
   "execution_count": 2,
   "id": "aaa51876",
   "metadata": {},
   "outputs": [],
   "source": [
    "import matplotlib.pyplot as plt"
   ]
  },
  {
   "cell_type": "code",
   "execution_count": 3,
   "id": "fd3110c1",
   "metadata": {},
   "outputs": [],
   "source": [
    "df = pd.read_csv(\"cleandata.csv\")"
   ]
  },
  {
   "cell_type": "code",
   "execution_count": 4,
   "id": "5a556335",
   "metadata": {},
   "outputs": [],
   "source": [
    "df.columns = df.columns.str.strip()"
   ]
  },
  {
   "cell_type": "code",
   "execution_count": 5,
   "id": "ccde12e7",
   "metadata": {},
   "outputs": [
    {
     "data": {
      "text/plain": [
       "0        Hydro\n",
       "1        Hydro\n",
       "2        Hydro\n",
       "3        Hydro\n",
       "4          Gas\n",
       "         ...  \n",
       "28659      Oil\n",
       "28660      Oil\n",
       "28661    Hydro\n",
       "28662     Coal\n",
       "28663    Hydro\n",
       "Name: fuel1, Length: 28664, dtype: object"
      ]
     },
     "execution_count": 5,
     "metadata": {},
     "output_type": "execute_result"
    }
   ],
   "source": [
    "df['fuel1']"
   ]
  },
  {
   "cell_type": "code",
   "execution_count": 6,
   "id": "9de79a07",
   "metadata": {},
   "outputs": [
    {
     "data": {
      "text/plain": [
       "fuel1\n",
       "Coal     1.860150e+06\n",
       "Gas      1.179516e+06\n",
       "Hydro    1.045956e+06\n",
       "Oil      4.779718e+05\n",
       "Name: capacity_mw, dtype: float64"
      ]
     },
     "execution_count": 6,
     "metadata": {},
     "output_type": "execute_result"
    }
   ],
   "source": [
    "df.groupby('fuel1')['capacity_mw'].sum().sort_values(ascending=False).head(4)"
   ]
  },
  {
   "cell_type": "code",
   "execution_count": 7,
   "id": "65cfc209",
   "metadata": {},
   "outputs": [
    {
     "data": {
      "text/plain": [
       "Index(['Coal', 'Gas', 'Hydro', 'Oil'], dtype='object', name='fuel1')"
      ]
     },
     "execution_count": 7,
     "metadata": {},
     "output_type": "execute_result"
    }
   ],
   "source": [
    "top_fuels = df.groupby('fuel1')['capacity_mw'].sum().sort_values(ascending=False).head(4).index\n",
    "top_fuels"
   ]
  },
  {
   "cell_type": "code",
   "execution_count": 8,
   "id": "dc3dbfcd",
   "metadata": {},
   "outputs": [
    {
     "data": {
      "text/plain": [
       "0        Afghanistan\n",
       "1        Afghanistan\n",
       "2        Afghanistan\n",
       "3        Afghanistan\n",
       "4        Afghanistan\n",
       "            ...     \n",
       "28659         Zambia\n",
       "28660         Zambia\n",
       "28661         Zambia\n",
       "28662       Zimbabwe\n",
       "28663       Zimbabwe\n",
       "Name: country_long, Length: 28664, dtype: object"
      ]
     },
     "execution_count": 8,
     "metadata": {},
     "output_type": "execute_result"
    }
   ],
   "source": [
    "df['country_long']"
   ]
  },
  {
   "cell_type": "code",
   "execution_count": 9,
   "id": "6ec35d9c",
   "metadata": {},
   "outputs": [
    {
     "data": {
      "text/plain": [
       "Index(['China', 'United States of America', 'India', 'Japan', 'Russia',\n",
       "       'Brazil', 'Canada', 'France', 'Germany', 'South Korea'],\n",
       "      dtype='object', name='country_long')"
      ]
     },
     "execution_count": 9,
     "metadata": {},
     "output_type": "execute_result"
    }
   ],
   "source": [
    "top_countries = df.groupby('country_long')['capacity_mw'].sum().sort_values(ascending=False).head(10).index\n",
    "top_countries\n"
   ]
  },
  {
   "cell_type": "code",
   "execution_count": 10,
   "id": "294c817f",
   "metadata": {},
   "outputs": [
    {
     "data": {
      "text/html": [
       "<div>\n",
       "<style scoped>\n",
       "    .dataframe tbody tr th:only-of-type {\n",
       "        vertical-align: middle;\n",
       "    }\n",
       "\n",
       "    .dataframe tbody tr th {\n",
       "        vertical-align: top;\n",
       "    }\n",
       "\n",
       "    .dataframe thead th {\n",
       "        text-align: right;\n",
       "    }\n",
       "</style>\n",
       "<table border=\"1\" class=\"dataframe\">\n",
       "  <thead>\n",
       "    <tr style=\"text-align: right;\">\n",
       "      <th></th>\n",
       "      <th>country</th>\n",
       "      <th>country_long</th>\n",
       "      <th>name</th>\n",
       "      <th>gppd_idnr</th>\n",
       "      <th>capacity_mw</th>\n",
       "      <th>latitude</th>\n",
       "      <th>longitude</th>\n",
       "      <th>fuel1</th>\n",
       "      <th>commissioning_year</th>\n",
       "      <th>owner</th>\n",
       "      <th>source</th>\n",
       "      <th>url</th>\n",
       "      <th>geolocation_source</th>\n",
       "      <th>year_of_capacity_data</th>\n",
       "      <th>estimated_generation_gwh</th>\n",
       "    </tr>\n",
       "  </thead>\n",
       "  <tbody>\n",
       "    <tr>\n",
       "      <th>1045</th>\n",
       "      <td>BRA</td>\n",
       "      <td>Brazil</td>\n",
       "      <td>14 de Julho</td>\n",
       "      <td>BRA0000012</td>\n",
       "      <td>100.7100</td>\n",
       "      <td>-29.0648</td>\n",
       "      <td>-51.6749</td>\n",
       "      <td>Hydro</td>\n",
       "      <td>2008.000000</td>\n",
       "      <td>Lightsource Renewable Energy</td>\n",
       "      <td>Agência Nacional de Energia Elétrica (Brazil)</td>\n",
       "      <td>http://www2.aneel.gov.br/aplicacoes/capacidade...</td>\n",
       "      <td>Agência Nacional de Energia Elétrica (Brazil)</td>\n",
       "      <td>2017.0</td>\n",
       "      <td>383.611567</td>\n",
       "    </tr>\n",
       "    <tr>\n",
       "      <th>1046</th>\n",
       "      <td>BRA</td>\n",
       "      <td>Brazil</td>\n",
       "      <td>3M Itapetininga</td>\n",
       "      <td>BRA0028642</td>\n",
       "      <td>3.8400</td>\n",
       "      <td>-23.5927</td>\n",
       "      <td>-48.0901</td>\n",
       "      <td>Oil</td>\n",
       "      <td>1994.698521</td>\n",
       "      <td>Lightsource Renewable Energy</td>\n",
       "      <td>Agência Nacional de Energia Elétrica (Brazil)</td>\n",
       "      <td>http://www2.aneel.gov.br/aplicacoes/capacidade...</td>\n",
       "      <td>Agência Nacional de Energia Elétrica (Brazil)</td>\n",
       "      <td>2017.0</td>\n",
       "      <td>16.425140</td>\n",
       "    </tr>\n",
       "    <tr>\n",
       "      <th>1047</th>\n",
       "      <td>BRA</td>\n",
       "      <td>Brazil</td>\n",
       "      <td>3M Sumaré</td>\n",
       "      <td>BRA0028919</td>\n",
       "      <td>6.4000</td>\n",
       "      <td>-22.8152</td>\n",
       "      <td>-47.1781</td>\n",
       "      <td>Oil</td>\n",
       "      <td>2001.000000</td>\n",
       "      <td>Lightsource Renewable Energy</td>\n",
       "      <td>Agência Nacional de Energia Elétrica (Brazil)</td>\n",
       "      <td>http://www2.aneel.gov.br/aplicacoes/capacidade...</td>\n",
       "      <td>Agência Nacional de Energia Elétrica (Brazil)</td>\n",
       "      <td>2017.0</td>\n",
       "      <td>27.375234</td>\n",
       "    </tr>\n",
       "    <tr>\n",
       "      <th>1048</th>\n",
       "      <td>BRA</td>\n",
       "      <td>Brazil</td>\n",
       "      <td>AJ Rorato</td>\n",
       "      <td>BRA0031076</td>\n",
       "      <td>2.1900</td>\n",
       "      <td>-23.9277</td>\n",
       "      <td>-52.4869</td>\n",
       "      <td>Oil</td>\n",
       "      <td>2012.000000</td>\n",
       "      <td>Lightsource Renewable Energy</td>\n",
       "      <td>Agência Nacional de Energia Elétrica (Brazil)</td>\n",
       "      <td>http://www2.aneel.gov.br/aplicacoes/capacidade...</td>\n",
       "      <td>Agência Nacional de Energia Elétrica (Brazil)</td>\n",
       "      <td>2017.0</td>\n",
       "      <td>9.367463</td>\n",
       "    </tr>\n",
       "    <tr>\n",
       "      <th>1049</th>\n",
       "      <td>BRA</td>\n",
       "      <td>Brazil</td>\n",
       "      <td>ALLIANZ PARQUE</td>\n",
       "      <td>BRA0032153</td>\n",
       "      <td>3.8744</td>\n",
       "      <td>-23.5218</td>\n",
       "      <td>-46.6691</td>\n",
       "      <td>Oil</td>\n",
       "      <td>2014.000000</td>\n",
       "      <td>Lightsource Renewable Energy</td>\n",
       "      <td>Agência Nacional de Energia Elétrica (Brazil)</td>\n",
       "      <td>http://www2.aneel.gov.br/aplicacoes/capacidade...</td>\n",
       "      <td>Agência Nacional de Energia Elétrica (Brazil)</td>\n",
       "      <td>2017.0</td>\n",
       "      <td>16.572282</td>\n",
       "    </tr>\n",
       "  </tbody>\n",
       "</table>\n",
       "</div>"
      ],
      "text/plain": [
       "     country country_long             name   gppd_idnr  capacity_mw  latitude  \\\n",
       "1045     BRA       Brazil      14 de Julho  BRA0000012     100.7100  -29.0648   \n",
       "1046     BRA       Brazil  3M Itapetininga  BRA0028642       3.8400  -23.5927   \n",
       "1047     BRA       Brazil        3M Sumaré  BRA0028919       6.4000  -22.8152   \n",
       "1048     BRA       Brazil        AJ Rorato  BRA0031076       2.1900  -23.9277   \n",
       "1049     BRA       Brazil   ALLIANZ PARQUE  BRA0032153       3.8744  -23.5218   \n",
       "\n",
       "      longitude  fuel1  commissioning_year                         owner  \\\n",
       "1045   -51.6749  Hydro         2008.000000  Lightsource Renewable Energy   \n",
       "1046   -48.0901    Oil         1994.698521  Lightsource Renewable Energy   \n",
       "1047   -47.1781    Oil         2001.000000  Lightsource Renewable Energy   \n",
       "1048   -52.4869    Oil         2012.000000  Lightsource Renewable Energy   \n",
       "1049   -46.6691    Oil         2014.000000  Lightsource Renewable Energy   \n",
       "\n",
       "                                             source  \\\n",
       "1045  Agência Nacional de Energia Elétrica (Brazil)   \n",
       "1046  Agência Nacional de Energia Elétrica (Brazil)   \n",
       "1047  Agência Nacional de Energia Elétrica (Brazil)   \n",
       "1048  Agência Nacional de Energia Elétrica (Brazil)   \n",
       "1049  Agência Nacional de Energia Elétrica (Brazil)   \n",
       "\n",
       "                                                    url  \\\n",
       "1045  http://www2.aneel.gov.br/aplicacoes/capacidade...   \n",
       "1046  http://www2.aneel.gov.br/aplicacoes/capacidade...   \n",
       "1047  http://www2.aneel.gov.br/aplicacoes/capacidade...   \n",
       "1048  http://www2.aneel.gov.br/aplicacoes/capacidade...   \n",
       "1049  http://www2.aneel.gov.br/aplicacoes/capacidade...   \n",
       "\n",
       "                                 geolocation_source  year_of_capacity_data  \\\n",
       "1045  Agência Nacional de Energia Elétrica (Brazil)                 2017.0   \n",
       "1046  Agência Nacional de Energia Elétrica (Brazil)                 2017.0   \n",
       "1047  Agência Nacional de Energia Elétrica (Brazil)                 2017.0   \n",
       "1048  Agência Nacional de Energia Elétrica (Brazil)                 2017.0   \n",
       "1049  Agência Nacional de Energia Elétrica (Brazil)                 2017.0   \n",
       "\n",
       "      estimated_generation_gwh  \n",
       "1045                383.611567  \n",
       "1046                 16.425140  \n",
       "1047                 27.375234  \n",
       "1048                  9.367463  \n",
       "1049                 16.572282  "
      ]
     },
     "execution_count": 10,
     "metadata": {},
     "output_type": "execute_result"
    }
   ],
   "source": [
    "df_filtered = df[df['fuel1'].isin(top_fuels) & df['country_long'].isin(top_countries)]\n",
    "df_filtered.head()"
   ]
  },
  {
   "cell_type": "code",
   "execution_count": 11,
   "id": "29597b23",
   "metadata": {},
   "outputs": [
    {
     "data": {
      "text/plain": [
       "country_long  fuel1\n",
       "Brazil        Coal      2792.88100\n",
       "              Gas      11286.00446\n",
       "              Hydro    98039.38390\n",
       "              Oil       8281.47074\n",
       "Canada        Coal      9772.00000\n",
       "              Gas      19786.40000\n",
       "              Hydro    80683.00000\n",
       "              Oil       2344.00000\n",
       "Name: capacity_mw, dtype: float64"
      ]
     },
     "execution_count": 11,
     "metadata": {},
     "output_type": "execute_result"
    }
   ],
   "source": [
    "fuel_capacity = df_filtered.groupby(['country_long', 'fuel1'])['capacity_mw'].sum()\n",
    "fuel_capacity.head(8)"
   ]
  },
  {
   "cell_type": "code",
   "execution_count": 12,
   "id": "021223d2",
   "metadata": {},
   "outputs": [
    {
     "data": {
      "text/html": [
       "<div>\n",
       "<style scoped>\n",
       "    .dataframe tbody tr th:only-of-type {\n",
       "        vertical-align: middle;\n",
       "    }\n",
       "\n",
       "    .dataframe tbody tr th {\n",
       "        vertical-align: top;\n",
       "    }\n",
       "\n",
       "    .dataframe thead th {\n",
       "        text-align: right;\n",
       "    }\n",
       "</style>\n",
       "<table border=\"1\" class=\"dataframe\">\n",
       "  <thead>\n",
       "    <tr style=\"text-align: right;\">\n",
       "      <th>fuel1</th>\n",
       "      <th>Coal</th>\n",
       "      <th>Gas</th>\n",
       "      <th>Hydro</th>\n",
       "      <th>Oil</th>\n",
       "    </tr>\n",
       "    <tr>\n",
       "      <th>country_long</th>\n",
       "      <th></th>\n",
       "      <th></th>\n",
       "      <th></th>\n",
       "      <th></th>\n",
       "    </tr>\n",
       "  </thead>\n",
       "  <tbody>\n",
       "    <tr>\n",
       "      <th>Brazil</th>\n",
       "      <td>2792.881</td>\n",
       "      <td>11286.00446</td>\n",
       "      <td>98039.3839</td>\n",
       "      <td>8281.47074</td>\n",
       "    </tr>\n",
       "    <tr>\n",
       "      <th>Canada</th>\n",
       "      <td>9772.000</td>\n",
       "      <td>19786.40000</td>\n",
       "      <td>80683.0000</td>\n",
       "      <td>2344.00000</td>\n",
       "    </tr>\n",
       "    <tr>\n",
       "      <th>China</th>\n",
       "      <td>828602.000</td>\n",
       "      <td>60286.60000</td>\n",
       "      <td>259541.6000</td>\n",
       "      <td>1612.50000</td>\n",
       "    </tr>\n",
       "    <tr>\n",
       "      <th>France</th>\n",
       "      <td>3575.000</td>\n",
       "      <td>5007.00000</td>\n",
       "      <td>19553.7799</td>\n",
       "      <td>4388.00000</td>\n",
       "    </tr>\n",
       "    <tr>\n",
       "      <th>Germany</th>\n",
       "      <td>47039.900</td>\n",
       "      <td>24430.25000</td>\n",
       "      <td>9984.1000</td>\n",
       "      <td>2851.20000</td>\n",
       "    </tr>\n",
       "    <tr>\n",
       "      <th>India</th>\n",
       "      <td>188116.220</td>\n",
       "      <td>21922.35100</td>\n",
       "      <td>43250.2700</td>\n",
       "      <td>4521.38000</td>\n",
       "    </tr>\n",
       "    <tr>\n",
       "      <th>Japan</th>\n",
       "      <td>38940.000</td>\n",
       "      <td>53362.75000</td>\n",
       "      <td>27439.0000</td>\n",
       "      <td>45620.20000</td>\n",
       "    </tr>\n",
       "    <tr>\n",
       "      <th>Russia</th>\n",
       "      <td>36407.000</td>\n",
       "      <td>76019.50000</td>\n",
       "      <td>42370.5000</td>\n",
       "      <td>0.00000</td>\n",
       "    </tr>\n",
       "    <tr>\n",
       "      <th>South Korea</th>\n",
       "      <td>27078.000</td>\n",
       "      <td>31552.90000</td>\n",
       "      <td>6063.0600</td>\n",
       "      <td>4655.00000</td>\n",
       "    </tr>\n",
       "    <tr>\n",
       "      <th>United States of America</th>\n",
       "      <td>326973.400</td>\n",
       "      <td>290676.40000</td>\n",
       "      <td>100982.1000</td>\n",
       "      <td>232897.70000</td>\n",
       "    </tr>\n",
       "  </tbody>\n",
       "</table>\n",
       "</div>"
      ],
      "text/plain": [
       "fuel1                           Coal           Gas        Hydro           Oil\n",
       "country_long                                                                 \n",
       "Brazil                      2792.881   11286.00446   98039.3839    8281.47074\n",
       "Canada                      9772.000   19786.40000   80683.0000    2344.00000\n",
       "China                     828602.000   60286.60000  259541.6000    1612.50000\n",
       "France                      3575.000    5007.00000   19553.7799    4388.00000\n",
       "Germany                    47039.900   24430.25000    9984.1000    2851.20000\n",
       "India                     188116.220   21922.35100   43250.2700    4521.38000\n",
       "Japan                      38940.000   53362.75000   27439.0000   45620.20000\n",
       "Russia                     36407.000   76019.50000   42370.5000       0.00000\n",
       "South Korea                27078.000   31552.90000    6063.0600    4655.00000\n",
       "United States of America  326973.400  290676.40000  100982.1000  232897.70000"
      ]
     },
     "execution_count": 12,
     "metadata": {},
     "output_type": "execute_result"
    }
   ],
   "source": [
    "fuel_capacity = df_filtered.groupby(['country_long', 'fuel1'])['capacity_mw'].sum().unstack(fill_value=0)\n",
    "fuel_capacity\n"
   ]
  },
  {
   "cell_type": "code",
   "execution_count": 13,
   "id": "6b9260ee",
   "metadata": {},
   "outputs": [
    {
     "data": {
      "text/html": [
       "<div>\n",
       "<style scoped>\n",
       "    .dataframe tbody tr th:only-of-type {\n",
       "        vertical-align: middle;\n",
       "    }\n",
       "\n",
       "    .dataframe tbody tr th {\n",
       "        vertical-align: top;\n",
       "    }\n",
       "\n",
       "    .dataframe thead th {\n",
       "        text-align: right;\n",
       "    }\n",
       "</style>\n",
       "<table border=\"1\" class=\"dataframe\">\n",
       "  <thead>\n",
       "    <tr style=\"text-align: right;\">\n",
       "      <th>fuel1</th>\n",
       "      <th>Coal</th>\n",
       "      <th>Gas</th>\n",
       "      <th>Hydro</th>\n",
       "      <th>Oil</th>\n",
       "    </tr>\n",
       "    <tr>\n",
       "      <th>country_long</th>\n",
       "      <th></th>\n",
       "      <th></th>\n",
       "      <th></th>\n",
       "      <th></th>\n",
       "    </tr>\n",
       "  </thead>\n",
       "  <tbody>\n",
       "    <tr>\n",
       "      <th>China</th>\n",
       "      <td>828602.000</td>\n",
       "      <td>60286.60000</td>\n",
       "      <td>259541.6000</td>\n",
       "      <td>1612.50000</td>\n",
       "    </tr>\n",
       "    <tr>\n",
       "      <th>United States of America</th>\n",
       "      <td>326973.400</td>\n",
       "      <td>290676.40000</td>\n",
       "      <td>100982.1000</td>\n",
       "      <td>232897.70000</td>\n",
       "    </tr>\n",
       "    <tr>\n",
       "      <th>India</th>\n",
       "      <td>188116.220</td>\n",
       "      <td>21922.35100</td>\n",
       "      <td>43250.2700</td>\n",
       "      <td>4521.38000</td>\n",
       "    </tr>\n",
       "    <tr>\n",
       "      <th>Japan</th>\n",
       "      <td>38940.000</td>\n",
       "      <td>53362.75000</td>\n",
       "      <td>27439.0000</td>\n",
       "      <td>45620.20000</td>\n",
       "    </tr>\n",
       "    <tr>\n",
       "      <th>Russia</th>\n",
       "      <td>36407.000</td>\n",
       "      <td>76019.50000</td>\n",
       "      <td>42370.5000</td>\n",
       "      <td>0.00000</td>\n",
       "    </tr>\n",
       "    <tr>\n",
       "      <th>Brazil</th>\n",
       "      <td>2792.881</td>\n",
       "      <td>11286.00446</td>\n",
       "      <td>98039.3839</td>\n",
       "      <td>8281.47074</td>\n",
       "    </tr>\n",
       "    <tr>\n",
       "      <th>Canada</th>\n",
       "      <td>9772.000</td>\n",
       "      <td>19786.40000</td>\n",
       "      <td>80683.0000</td>\n",
       "      <td>2344.00000</td>\n",
       "    </tr>\n",
       "    <tr>\n",
       "      <th>Germany</th>\n",
       "      <td>47039.900</td>\n",
       "      <td>24430.25000</td>\n",
       "      <td>9984.1000</td>\n",
       "      <td>2851.20000</td>\n",
       "    </tr>\n",
       "    <tr>\n",
       "      <th>South Korea</th>\n",
       "      <td>27078.000</td>\n",
       "      <td>31552.90000</td>\n",
       "      <td>6063.0600</td>\n",
       "      <td>4655.00000</td>\n",
       "    </tr>\n",
       "    <tr>\n",
       "      <th>France</th>\n",
       "      <td>3575.000</td>\n",
       "      <td>5007.00000</td>\n",
       "      <td>19553.7799</td>\n",
       "      <td>4388.00000</td>\n",
       "    </tr>\n",
       "  </tbody>\n",
       "</table>\n",
       "</div>"
      ],
      "text/plain": [
       "fuel1                           Coal           Gas        Hydro           Oil\n",
       "country_long                                                                 \n",
       "China                     828602.000   60286.60000  259541.6000    1612.50000\n",
       "United States of America  326973.400  290676.40000  100982.1000  232897.70000\n",
       "India                     188116.220   21922.35100   43250.2700    4521.38000\n",
       "Japan                      38940.000   53362.75000   27439.0000   45620.20000\n",
       "Russia                     36407.000   76019.50000   42370.5000       0.00000\n",
       "Brazil                      2792.881   11286.00446   98039.3839    8281.47074\n",
       "Canada                      9772.000   19786.40000   80683.0000    2344.00000\n",
       "Germany                    47039.900   24430.25000    9984.1000    2851.20000\n",
       "South Korea                27078.000   31552.90000    6063.0600    4655.00000\n",
       "France                      3575.000    5007.00000   19553.7799    4388.00000"
      ]
     },
     "execution_count": 13,
     "metadata": {},
     "output_type": "execute_result"
    }
   ],
   "source": [
    "fuel_capacity = fuel_capacity.loc[fuel_capacity.sum(axis=1).sort_values(ascending=False).index]\n",
    "fuel_capacity"
   ]
  },
  {
   "cell_type": "code",
   "execution_count": 14,
   "id": "abc12e09",
   "metadata": {},
   "outputs": [
    {
     "data": {
      "image/png": "[encoded data removed]",
      "text/plain": [
       "<Figure size 1400x700 with 1 Axes>"
      ]
     },
     "metadata": {},
     "output_type": "display_data"
    }
   ],
   "source": [
    "fuel_capacity.plot(kind='bar', stacked=True, figsize=(14, 7), colormap='tab10')\n",
    "plt.title(\"Top 4 Fuel Types by Power Plant Capacity in Top Countries\")\n",
    "plt.xlabel(\"Country\")\n",
    "plt.ylabel(\"Total Capacity (MW)\")\n",
    "plt.legend(title=\"Fuel Type\", bbox_to_anchor=(1.05, 1), loc='upper left')\n",
    "plt.tight_layout()\n",
    "plt.show()"
   ]
  },
  {
   "cell_type": "code",
   "execution_count": 15,
   "id": "0866f845",
   "metadata": {},
   "outputs": [
    {
     "data": {
      "text/plain": [
       "164"
      ]
     },
     "execution_count": 15,
     "metadata": {},
     "output_type": "execute_result"
    }
   ],
   "source": [
    "df['country_long'].nunique()"
   ]
  },
  {
   "cell_type": "code",
   "execution_count": 16,
   "id": "a2197857",
   "metadata": {},
   "outputs": [
    {
     "data": {
      "text/html": [
       "<div>\n",
       "<style scoped>\n",
       "    .dataframe tbody tr th:only-of-type {\n",
       "        vertical-align: middle;\n",
       "    }\n",
       "\n",
       "    .dataframe tbody tr th {\n",
       "        vertical-align: top;\n",
       "    }\n",
       "\n",
       "    .dataframe thead th {\n",
       "        text-align: right;\n",
       "    }\n",
       "</style>\n",
       "<table border=\"1\" class=\"dataframe\">\n",
       "  <thead>\n",
       "    <tr style=\"text-align: right;\">\n",
       "      <th>fuel1</th>\n",
       "      <th>Coal</th>\n",
       "      <th>Gas</th>\n",
       "      <th>Hydro</th>\n",
       "      <th>Oil</th>\n",
       "    </tr>\n",
       "    <tr>\n",
       "      <th>country_long</th>\n",
       "      <th></th>\n",
       "      <th></th>\n",
       "      <th></th>\n",
       "      <th></th>\n",
       "    </tr>\n",
       "  </thead>\n",
       "  <tbody>\n",
       "    <tr>\n",
       "      <th>China</th>\n",
       "      <td>828602.000</td>\n",
       "      <td>60286.60000</td>\n",
       "      <td>259541.6000</td>\n",
       "      <td>1612.50000</td>\n",
       "    </tr>\n",
       "    <tr>\n",
       "      <th>United States of America</th>\n",
       "      <td>326973.400</td>\n",
       "      <td>290676.40000</td>\n",
       "      <td>100982.1000</td>\n",
       "      <td>232897.70000</td>\n",
       "    </tr>\n",
       "    <tr>\n",
       "      <th>India</th>\n",
       "      <td>188116.220</td>\n",
       "      <td>21922.35100</td>\n",
       "      <td>43250.2700</td>\n",
       "      <td>4521.38000</td>\n",
       "    </tr>\n",
       "    <tr>\n",
       "      <th>Japan</th>\n",
       "      <td>38940.000</td>\n",
       "      <td>53362.75000</td>\n",
       "      <td>27439.0000</td>\n",
       "      <td>45620.20000</td>\n",
       "    </tr>\n",
       "    <tr>\n",
       "      <th>Russia</th>\n",
       "      <td>36407.000</td>\n",
       "      <td>76019.50000</td>\n",
       "      <td>42370.5000</td>\n",
       "      <td>0.00000</td>\n",
       "    </tr>\n",
       "    <tr>\n",
       "      <th>Brazil</th>\n",
       "      <td>2792.881</td>\n",
       "      <td>11286.00446</td>\n",
       "      <td>98039.3839</td>\n",
       "      <td>8281.47074</td>\n",
       "    </tr>\n",
       "    <tr>\n",
       "      <th>Canada</th>\n",
       "      <td>9772.000</td>\n",
       "      <td>19786.40000</td>\n",
       "      <td>80683.0000</td>\n",
       "      <td>2344.00000</td>\n",
       "    </tr>\n",
       "    <tr>\n",
       "      <th>Germany</th>\n",
       "      <td>47039.900</td>\n",
       "      <td>24430.25000</td>\n",
       "      <td>9984.1000</td>\n",
       "      <td>2851.20000</td>\n",
       "    </tr>\n",
       "    <tr>\n",
       "      <th>South Korea</th>\n",
       "      <td>27078.000</td>\n",
       "      <td>31552.90000</td>\n",
       "      <td>6063.0600</td>\n",
       "      <td>4655.00000</td>\n",
       "    </tr>\n",
       "    <tr>\n",
       "      <th>France</th>\n",
       "      <td>3575.000</td>\n",
       "      <td>5007.00000</td>\n",
       "      <td>19553.7799</td>\n",
       "      <td>4388.00000</td>\n",
       "    </tr>\n",
       "  </tbody>\n",
       "</table>\n",
       "</div>"
      ],
      "text/plain": [
       "fuel1                           Coal           Gas        Hydro           Oil\n",
       "country_long                                                                 \n",
       "China                     828602.000   60286.60000  259541.6000    1612.50000\n",
       "United States of America  326973.400  290676.40000  100982.1000  232897.70000\n",
       "India                     188116.220   21922.35100   43250.2700    4521.38000\n",
       "Japan                      38940.000   53362.75000   27439.0000   45620.20000\n",
       "Russia                     36407.000   76019.50000   42370.5000       0.00000\n",
       "Brazil                      2792.881   11286.00446   98039.3839    8281.47074\n",
       "Canada                      9772.000   19786.40000   80683.0000    2344.00000\n",
       "Germany                    47039.900   24430.25000    9984.1000    2851.20000\n",
       "South Korea                27078.000   31552.90000    6063.0600    4655.00000\n",
       "France                      3575.000    5007.00000   19553.7799    4388.00000"
      ]
     },
     "execution_count": 16,
     "metadata": {},
     "output_type": "execute_result"
    }
   ],
   "source": [
    "fuel_capacity\n"
   ]
  },
  {
   "cell_type": "code",
   "execution_count": 17,
   "id": "c9628026",
   "metadata": {},
   "outputs": [
    {
     "data": {
      "text/plain": [
       "fuel1\n",
       "Coal     188116.220\n",
       "Gas       21922.351\n",
       "Hydro     43250.270\n",
       "Oil        4521.380\n",
       "Name: India, dtype: float64"
      ]
     },
     "execution_count": 17,
     "metadata": {},
     "output_type": "execute_result"
    }
   ],
   "source": [
    "fuel_capacity.loc['India']"
   ]
  },
  {
   "cell_type": "code",
   "execution_count": null,
   "id": "f5a76896",
   "metadata": {},
   "outputs": [],
   "source": []
  },
  {
   "cell_type": "code",
   "execution_count": null,
   "id": "0847f38f",
   "metadata": {},
   "outputs": [],
   "source": []
  }
 ],
 "metadata": {
  "kernelspec": {
   "display_name": "base",
   "language": "python",
   "name": "python3"
  },
  "language_info": {
   "codemirror_mode": {
    "name": "ipython",
    "version": 3
   },
   "file_extension": ".py",
   "mimetype": "text/x-python",
   "name": "python",
   "nbconvert_exporter": "python",
   "pygments_lexer": "ipython3",
   "version": "3.12.3"
  }
 },
 "nbformat": 4,
 "nbformat_minor": 5
}
